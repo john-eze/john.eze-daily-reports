{
 "cells": [
  {
   "cell_type": "markdown",
   "id": "a480a0c3",
   "metadata": {},
   "source": [
    "# Day 6 Report"
   ]
  },
  {
   "cell_type": "markdown",
   "id": "e9963328",
   "metadata": {},
   "source": [
    "## Question 1"
   ]
  },
  {
   "cell_type": "code",
   "execution_count": 33,
   "id": "2c266813",
   "metadata": {},
   "outputs": [
    {
     "name": "stdout",
     "output_type": "stream",
     "text": [
      "input a natural number: 5\n",
      "The summation is given as 10\n"
     ]
    }
   ],
   "source": [
    "n = int(input(\"input a natural number: \"))\n",
    "\n",
    "summation = 0\n",
    "for i in list(range(n)):\n",
    "    if i%2 == 1:\n",
    "        summation += i + 3\n",
    "        \n",
    "print(f\"The summation is given as {summation}\")"
   ]
  },
  {
   "cell_type": "code",
   "execution_count": 38,
   "id": "c2a02782",
   "metadata": {},
   "outputs": [
    {
     "name": "stdout",
     "output_type": "stream",
     "text": [
      "input a natural number: 5\n",
      "The summation is given as 105\n"
     ]
    }
   ],
   "source": [
    "n = int(input(\"input a natural number: \"))\n",
    "\n",
    "product = 1\n",
    "for i in list(range(n)):\n",
    "    if i%2 == 0:\n",
    "        product *= i + 3\n",
    "    \n",
    "print(f\"The summation is given as {product}\")"
   ]
  },
  {
   "cell_type": "markdown",
   "id": "3417b635",
   "metadata": {},
   "source": [
    "## Question 2"
   ]
  },
  {
   "cell_type": "code",
   "execution_count": 46,
   "id": "c94aaf71",
   "metadata": {},
   "outputs": [
    {
     "name": "stdout",
     "output_type": "stream",
     "text": [
      "Enter a number between 0 - 6: -1\n",
      "You didn't input a valid number\n"
     ]
    }
   ],
   "source": [
    "days = int(input(\"Enter a number between 0 - 6: \"))\n",
    "\n",
    "if (days == 1):\n",
    "    print(\"Monday\")\n",
    "elif (days == 2):\n",
    "    print(\"Tuesday\")\n",
    "elif (days == 3):\n",
    "    print(\"Wednesday\")\n",
    "elif (days == 4):\n",
    "    print(\"Thursday\")\n",
    "elif (days == 5):\n",
    "    print(\"Friday\")\n",
    "elif (days == 0) or (days == 6):\n",
    "    print(\"Weekend\")\n",
    "else:\n",
    "    print(\"You didn't input a valid number\")"
   ]
  },
  {
   "cell_type": "markdown",
   "id": "1d9fbcdb",
   "metadata": {},
   "source": [
    "## Question 3"
   ]
  },
  {
   "cell_type": "code",
   "execution_count": 53,
   "id": "89c51268",
   "metadata": {},
   "outputs": [
    {
     "name": "stdout",
     "output_type": "stream",
     "text": [
      "Write a number between 0 and 117\n",
      "There are 31 days\n"
     ]
    }
   ],
   "source": [
    "month = int(input(\"Write a number between 0 and 11\"))\n",
    "\n",
    "if month == 1:\n",
    "    print(f\"There are 28 days\")\n",
    "elif (month == 3) or (month == 5) or (month == 8) or (month == 10):\n",
    "    print(f\"There are 30 days\")\n",
    "elif (month == 0) or (month == 2) or (month == 4) or (month == 6) or (month == 7) or (month == 9) or (month == 11):\n",
    "    print(f\"There are 31 days\")\n",
    "else:\n",
    "    print(\"You didn't input a valid number\")"
   ]
  },
  {
   "cell_type": "markdown",
   "id": "6146f256",
   "metadata": {},
   "source": [
    "## Question 4"
   ]
  },
  {
   "cell_type": "code",
   "execution_count": 70,
   "id": "45a1d0bd",
   "metadata": {},
   "outputs": [
    {
     "name": "stdout",
     "output_type": "stream",
     "text": [
      "John Eze\n",
      "John Eze\n",
      "John Eze\n"
     ]
    }
   ],
   "source": [
    "# for loop\n",
    "\n",
    "\n",
    "name = \"John Eze\"\n",
    "\n",
    "for i in range(3):\n",
    "    print(name)\n"
   ]
  },
  {
   "cell_type": "code",
   "execution_count": 72,
   "id": "1275c06f",
   "metadata": {},
   "outputs": [
    {
     "name": "stdout",
     "output_type": "stream",
     "text": [
      "John Eze\n",
      "John Eze\n",
      "John Eze\n"
     ]
    }
   ],
   "source": [
    "name = \"John Eze\"\n",
    "i = 0\n",
    "\n",
    "while i in range(3):\n",
    "    print(name)\n",
    "    i += 1\n"
   ]
  },
  {
   "cell_type": "markdown",
   "id": "71d8e8aa",
   "metadata": {},
   "source": [
    "## Question 5"
   ]
  },
  {
   "cell_type": "code",
   "execution_count": 97,
   "id": "d9ef9193",
   "metadata": {
    "scrolled": true
   },
   "outputs": [
    {
     "name": "stdout",
     "output_type": "stream",
     "text": [
      "First number:  1\n",
      "Second number:  1\n",
      "Fibonacci Sequence: 1 , 1\n",
      "2,3,5,8,13,21,34,55,89,144,233,377,610,\n"
     ]
    }
   ],
   "source": [
    "a0 = int(input(\"First number:  \"))\n",
    "a1 = int(input(\"Second number:  \"))\n",
    "\n",
    "num = 15\n",
    "\n",
    "print(\"Fibonacci Sequence:\", a0, \",\", a1, end=\",\")\n",
    "\n",
    "for i in range(2, num):\n",
    "    a2 = a0 + a1\n",
    "    a0 = a1\n",
    "    a1 = a2\n",
    "    print(a2, end=\",\")\n",
    "\n",
    "print()"
   ]
  },
  {
   "cell_type": "markdown",
   "id": "3afcc333",
   "metadata": {},
   "source": [
    "## Question 6"
   ]
  },
  {
   "cell_type": "code",
   "execution_count": 105,
   "id": "a9d475c9",
   "metadata": {},
   "outputs": [
    {
     "name": "stdout",
     "output_type": "stream",
     "text": [
      "Enter the first number: 2\n",
      "Enter the second number: 3\n",
      "[2, 3, 5, 8, 13, 21, 34, 55, 89, 144, 233, 377, 610, 987, 1597]\n"
     ]
    }
   ],
   "source": [
    "x0 = int(input(\"First number:  \"))\n",
    "x1 = int(input(\"Second number:  \"))\n",
    "\n",
    "num = 30\n",
    "\n",
    "print(x0, x1, end = \",\")\n",
    "\n",
    "for i in range(2, num):\n",
    "    x2 = 0.5 * (x1 - 6*x0)\n",
    "    x0 = x1\n",
    "    x1 = x2\n",
    "    print(x2, end = \",\")\n",
    "print()\n"
   ]
  },
  {
   "cell_type": "markdown",
   "id": "4c168a05",
   "metadata": {},
   "source": [
    "## Question 7"
   ]
  },
  {
   "cell_type": "code",
   "execution_count": 107,
   "id": "0dc5ba90",
   "metadata": {},
   "outputs": [
    {
     "name": "stdout",
     "output_type": "stream",
     "text": [
      "Input a year: 1700\n",
      "This is not a leap year.\n"
     ]
    }
   ],
   "source": [
    "year  = int(input(\"Input a year: \"))\n",
    "\n",
    "if (year%4 == 0  and year%100 != 0) or (year == 400):\n",
    "    print(\"This is a leap year.\")\n",
    "else:\n",
    "    print(\"This is not a leap year.\")"
   ]
  },
  {
   "cell_type": "code",
   "execution_count": 112,
   "id": "8ac88e31",
   "metadata": {},
   "outputs": [
    {
     "name": "stdout",
     "output_type": "stream",
     "text": [
      "Input a year: 1700\n",
      "This is not a leap year\n"
     ]
    }
   ],
   "source": [
    "year = int(input(\"Input a year: \"))\n",
    "\n",
    "result = [\"This is not a leap year\", \"This is a leap year\"]\n",
    "\n",
    "print(result[(year % 4 == 0 and year % 100 != 0) or (year % 400 == 0)])\n"
   ]
  },
  {
   "cell_type": "markdown",
   "id": "397c78a7",
   "metadata": {},
   "source": [
    "## Question 8"
   ]
  },
  {
   "cell_type": "code",
   "execution_count": 115,
   "id": "6cd96fd5",
   "metadata": {},
   "outputs": [
    {
     "name": "stdout",
     "output_type": "stream",
     "text": [
      "Enter a natural number: 15\n",
      "[1, 2, 3, 4, 5, 6, 7, 8, 9, 10, 11, 12, 13, 14]\n",
      "Sum of squares: 1240\n"
     ]
    }
   ],
   "source": [
    "#for loop\n",
    "\n",
    "n = int(input(\"Enter a natural number: \"))\n",
    "square_number = sum(i**2 for i in range(1, n + 1))\n",
    "print(list(range(1,n+1)))\n",
    "print(\"Sum of squares:\", square_number)"
   ]
  },
  {
   "cell_type": "code",
   "execution_count": 116,
   "id": "483ba689",
   "metadata": {},
   "outputs": [
    {
     "name": "stdout",
     "output_type": "stream",
     "text": [
      "Enter a natural number: 15\n",
      "[1, 2, 3, 4, 5, 6, 7, 8, 9, 10, 11, 12, 13, 14, 15]\n",
      "Sum of squares: 1240\n"
     ]
    }
   ],
   "source": [
    "#while loop\n",
    "\n",
    "n = int(input(\"Enter a natural number: \"))\n",
    "square_number = 0\n",
    "i = 1\n",
    "while i <= n:\n",
    "    square_number += i**2\n",
    "    i += 1\n",
    "print(list(range(1,n+1)))\n",
    "print(\"Sum of squares:\", square_number)"
   ]
  },
  {
   "cell_type": "code",
   "execution_count": 117,
   "id": "a1c6893e",
   "metadata": {},
   "outputs": [
    {
     "name": "stdout",
     "output_type": "stream",
     "text": [
      "Enter a number M: 15\n",
      "The smallest n is: 4\n"
     ]
    }
   ],
   "source": [
    "#for loop\n",
    "\n",
    "M = int(input(\"Enter a number M: \"))\n",
    "square_number = 0\n",
    "for n in range(1, M + 1):\n",
    "    square_number += n**2\n",
    "    if square_number >= M:\n",
    "        print(f\"The smallest n is: {n}\")\n",
    "        break\n"
   ]
  },
  {
   "cell_type": "code",
   "execution_count": null,
   "id": "8ad52b0f",
   "metadata": {},
   "outputs": [],
   "source": [
    "#while loop\n",
    "\n",
    "M = int(input(\"Enter a number M: \"))\n",
    "square_number = 0\n",
    "n = 1\n",
    "while square_number < M:\n",
    "    square_number += n**2\n",
    "    n += 1\n",
    "print(f\"The smallest n is: {n - 1}\")\n"
   ]
  },
  {
   "cell_type": "markdown",
   "id": "b8cd7205",
   "metadata": {},
   "source": [
    "## Question 9"
   ]
  },
  {
   "cell_type": "code",
   "execution_count": 118,
   "id": "8730f368",
   "metadata": {},
   "outputs": [
    {
     "name": "stdout",
     "output_type": "stream",
     "text": [
      "Enter a natural number: 27\n",
      "Divisors: [1, 3, 9, 27]\n"
     ]
    }
   ],
   "source": [
    "num = int(input(\"Enter a natural number: \"))\n",
    "div = [i for i in range(1, num + 1) if num % i == 0]\n",
    "print(\"Divisors:\", div)\n"
   ]
  },
  {
   "cell_type": "code",
   "execution_count": 125,
   "id": "ce553af4",
   "metadata": {},
   "outputs": [
    {
     "name": "stdout",
     "output_type": "stream",
     "text": [
      "Enter a number: 39\n",
      "Prime factors: [3, 13]\n"
     ]
    }
   ],
   "source": [
    "n = int(input(\"Enter a number: \"))\n",
    "i = 2\n",
    "factors = []\n",
    "while i * i <= n:\n",
    "    if n % i:\n",
    "        i += 1\n",
    "    else:\n",
    "        n //= i\n",
    "        factors.append(i)\n",
    "if n > 1:\n",
    "    factors.append(n)\n",
    "print(\"Prime factors:\", factors)\n"
   ]
  },
  {
   "cell_type": "markdown",
   "id": "c322ce21",
   "metadata": {},
   "source": [
    "## Question 10"
   ]
  },
  {
   "cell_type": "code",
   "execution_count": 120,
   "id": "069d28bb",
   "metadata": {},
   "outputs": [
    {
     "name": "stdout",
     "output_type": "stream",
     "text": [
      "Enter a number between 0 and 9: 7\n",
      "Enter another number (max): 53\n",
      "7 * 1 = 7\n",
      "7 * 2 = 14\n",
      "7 * 3 = 21\n",
      "7 * 4 = 28\n",
      "7 * 5 = 35\n",
      "7 * 6 = 42\n",
      "7 * 7 = 49\n",
      "7 * 8 = 56\n",
      "7 * 9 = 63\n",
      "7 * 10 = 70\n",
      "7 * 11 = 77\n",
      "7 * 12 = 84\n",
      "7 * 13 = 91\n",
      "7 * 14 = 98\n",
      "7 * 15 = 105\n",
      "7 * 16 = 112\n",
      "7 * 17 = 119\n",
      "7 * 18 = 126\n",
      "7 * 19 = 133\n",
      "7 * 20 = 140\n",
      "7 * 21 = 147\n",
      "7 * 22 = 154\n",
      "7 * 23 = 161\n",
      "7 * 24 = 168\n",
      "7 * 25 = 175\n",
      "7 * 26 = 182\n",
      "7 * 27 = 189\n",
      "7 * 28 = 196\n",
      "7 * 29 = 203\n",
      "7 * 30 = 210\n",
      "7 * 31 = 217\n",
      "7 * 32 = 224\n",
      "7 * 33 = 231\n",
      "7 * 34 = 238\n",
      "7 * 35 = 245\n",
      "7 * 36 = 252\n",
      "7 * 37 = 259\n",
      "7 * 38 = 266\n",
      "7 * 39 = 273\n",
      "7 * 40 = 280\n",
      "7 * 41 = 287\n",
      "7 * 42 = 294\n",
      "7 * 43 = 301\n",
      "7 * 44 = 308\n",
      "7 * 45 = 315\n",
      "7 * 46 = 322\n",
      "7 * 47 = 329\n",
      "7 * 48 = 336\n",
      "7 * 49 = 343\n",
      "7 * 50 = 350\n",
      "7 * 51 = 357\n",
      "7 * 52 = 364\n",
      "7 * 53 = 371\n"
     ]
    }
   ],
   "source": [
    "x = int(input(\"Enter a number between 0 and 9: \"))\n",
    "N = int(input(\"Enter another number (max): \"))\n",
    "if 0 <= x <= 9:\n",
    "    for i in range(1, N + 1):\n",
    "        print(f\"{x} * {i} = {x * i}\")\n",
    "else:\n",
    "    print(\"Number must be between 0 and 9.\")\n"
   ]
  },
  {
   "cell_type": "markdown",
   "id": "b0775894",
   "metadata": {},
   "source": [
    "## Question 11"
   ]
  },
  {
   "cell_type": "code",
   "execution_count": 121,
   "id": "7e87fc94",
   "metadata": {},
   "outputs": [
    {
     "name": "stdout",
     "output_type": "stream",
     "text": [
      "Multiples of 3, 7, or 11: [0, 3, 6, 7, 9, 11, 12, 14, 15, 18, 21, 22, 24, 27, 28, 30, 33, 35, 36, 39]\n"
     ]
    }
   ],
   "source": [
    "multiples = [i for i in range(41) if i % 3 == 0 or i % 7 == 0 or i % 11 == 0]\n",
    "print(\"Multiples of 3, 7, or 11:\", multiples)\n"
   ]
  },
  {
   "cell_type": "markdown",
   "id": "5a84598e",
   "metadata": {},
   "source": [
    "## Question 12"
   ]
  },
  {
   "cell_type": "code",
   "execution_count": 122,
   "id": "99158f53",
   "metadata": {},
   "outputs": [
    {
     "name": "stdout",
     "output_type": "stream",
     "text": [
      "Enter a floating-point number: 542.835\n",
      "Floor of x: 542\n"
     ]
    }
   ],
   "source": [
    "import math\n",
    "x = float(input(\"Enter a floating-point number: \"))\n",
    "print(\"Floor of x:\", math.floor(x))\n"
   ]
  },
  {
   "cell_type": "code",
   "execution_count": 126,
   "id": "a6787f00",
   "metadata": {},
   "outputs": [
    {
     "name": "stdout",
     "output_type": "stream",
     "text": [
      "Enter a floating-point number: 234.73\n",
      "Recursive floor of x: 234\n"
     ]
    }
   ],
   "source": [
    "x = float(input(\"Enter a floating-point number: \"))\n",
    "def recursive_floor(x):\n",
    "    if x < 1:\n",
    "        return 0\n",
    "    else:\n",
    "        return 1 + recursive_floor(x - 1)\n",
    "\n",
    "print(\"Recursive floor of x:\", recursive_floor(x))"
   ]
  },
  {
   "cell_type": "markdown",
   "id": "8d4adc37",
   "metadata": {},
   "source": [
    "## Question 13"
   ]
  },
  {
   "cell_type": "code",
   "execution_count": 128,
   "id": "1d1600dd",
   "metadata": {},
   "outputs": [
    {
     "name": "stdout",
     "output_type": "stream",
     "text": [
      "Enter the x-coordinate: 4\n",
      "Enter the y-coordinate: -2\n",
      "4th Quadrant\n",
      "Do you want to quit? (y/n): n\n",
      "Enter the x-coordinate: -3\n",
      "Enter the y-coordinate: 3\n",
      "2nd Quadrant\n",
      "Do you want to quit? (y/n): n\n",
      "Enter the x-coordinate: 0\n",
      "Enter the y-coordinate: 0\n",
      "Origin\n",
      "Do you want to quit? (y/n): y\n"
     ]
    }
   ],
   "source": [
    "while True:\n",
    "    x = float(input(\"Enter the x-coordinate: \"))\n",
    "    y = float(input(\"Enter the y-coordinate: \"))\n",
    "    \n",
    "    if x == 0 and y == 0:\n",
    "        result = \"Origin\"\n",
    "    elif x == 0:\n",
    "        result = \"On Y axis\"\n",
    "    elif y == 0:\n",
    "        result = \"On X axis\"\n",
    "    elif x > 0 and y > 0:\n",
    "        result = \"1st Quadrant\"\n",
    "    elif x < 0 and y > 0:\n",
    "        result = \"2nd Quadrant\"\n",
    "    elif x < 0 and y < 0:\n",
    "        result = \"3rd Quadrant\"\n",
    "    else:\n",
    "        result = \"4th Quadrant\"\n",
    "    \n",
    "    print(result)\n",
    "    \n",
    "    if input(\"Do you want to quit? (y/n): \").lower() == 'y':\n",
    "        break\n"
   ]
  },
  {
   "cell_type": "markdown",
   "id": "29e91802",
   "metadata": {},
   "source": [
    "## Question 14"
   ]
  },
  {
   "cell_type": "code",
   "execution_count": 129,
   "id": "4aafa4fa",
   "metadata": {},
   "outputs": [
    {
     "name": "stdout",
     "output_type": "stream",
     "text": [
      "Enter a number between 0 and 9: 7\n",
      "Enter a number between 0 and 255: 243\n",
      "Multiples of 7 between 0 and 243: [0, 7, 14, 21, 28, 35, 42, 49, 56, 63, 70, 77, 84, 91, 98, 105, 112, 119, 126, 133, 140, 147, 154, 161, 168, 175, 182, 189, 196, 203, 210, 217, 224, 231, 238]\n",
      "Do you want to continue? (y/n): y\n",
      "Enter a number between 0 and 9: 5\n",
      "Enter a number between 0 and 255: 197\n",
      "Multiples of 5 between 0 and 197: [0, 5, 10, 15, 20, 25, 30, 35, 40, 45, 50, 55, 60, 65, 70, 75, 80, 85, 90, 95, 100, 105, 110, 115, 120, 125, 130, 135, 140, 145, 150, 155, 160, 165, 170, 175, 180, 185, 190, 195]\n",
      "Do you want to continue? (y/n): n\n"
     ]
    }
   ],
   "source": [
    "while True:\n",
    "    x = int(input(\"Enter a number between 0 and 9: \"))\n",
    "    if 0 <= x <= 9:\n",
    "        max_val = int(input(\"Enter a number between 0 and 255: \"))\n",
    "        if 0 <= max_val <= 255:\n",
    "            multiples = [i for i in range(0, max_val + 1, x)]\n",
    "            print(f\"Multiples of {x} between 0 and {max_val}:\", multiples)\n",
    "        else:\n",
    "            print(\"max value must be between 0 and 255.\")\n",
    "    else:\n",
    "        print(\"Number must be between 0 and 9.\")\n",
    "    if input(\"Do you want to continue? (y/n): \").lower() != 'y':\n",
    "        break\n"
   ]
  }
 ],
 "metadata": {
  "kernelspec": {
   "display_name": "Python 3",
   "language": "python",
   "name": "python3"
  },
  "language_info": {
   "codemirror_mode": {
    "name": "ipython",
    "version": 3
   },
   "file_extension": ".py",
   "mimetype": "text/x-python",
   "name": "python",
   "nbconvert_exporter": "python",
   "pygments_lexer": "ipython3",
   "version": "3.9.2"
  }
 },
 "nbformat": 4,
 "nbformat_minor": 5
}
